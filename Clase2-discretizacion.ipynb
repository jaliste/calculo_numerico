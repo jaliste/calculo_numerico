{
 "cells": [
  {
   "cell_type": "markdown",
   "metadata": {},
   "source": [
    "# Discretización \n",
    "\n",
    "Sea $f:[a,b] \\to R$ una función. Como la función tiene una cantidad infinitas de puntos es imposible representarla completamente en el computador ya que esté tiene memoria finita.\n",
    "\n",
    "Lo que hacemos es \"discretizar\" la función, es decir, tomar una cantidad finita de puntos en el intervalo $[a,b]$ y sus respectivos evaluaciones en $f$. \n",
    "\n",
    "Sea $x_0 = a < x_1 < x_2 < \\ldots < x_{n-1}=b$ un partición de $[a,b]$. Podemos representar la función $f(x) = \\sqrt{x}$ por el arreglo $[\\sqrt{x_0}, \\sqrt{x_1}, \\ldots, \\sqrt{x_{n-1}}]$.\n",
    "\n",
    "Esto lo hacemos de la siguiente manera en python:\n"
   ]
  },
  {
   "cell_type": "code",
   "execution_count": 3,
   "metadata": {
    "collapsed": false
   },
   "outputs": [
    {
     "name": "stdout",
     "output_type": "stream",
     "text": [
      "[  0.   1.   2.   3.   4.   5.   6.   7.   8.   9.  10.]\n",
      "[ 0.          1.          1.41421356  1.73205081  2.          2.23606798\n",
      "  2.44948974  2.64575131  2.82842712  3.          3.16227766]\n"
     ]
    }
   ],
   "source": [
    "import numpy as np\n",
    "x = np.linspace(0,10,11)\n",
    "f = np.sqrt(x)\n",
    "print(x)\n",
    "print(f)"
   ]
  },
  {
   "cell_type": "markdown",
   "metadata": {},
   "source": [
    "En este caso la representación que tenemos de la función es la siguiete:\n"
   ]
  },
  {
   "cell_type": "code",
   "execution_count": 10,
   "metadata": {
    "collapsed": false
   },
   "outputs": [],
   "source": [
    "import matplotlib.pyplot as plt\n",
    "plt.plot(x,f, 'o')\n",
    "plt.show()"
   ]
  },
  {
   "cell_type": "markdown",
   "metadata": {},
   "source": [
    "Si queremos una \"mejor\" representación podemos refinar nuestra partición.\n"
   ]
  },
  {
   "cell_type": "code",
   "execution_count": 12,
   "metadata": {
    "collapsed": false
   },
   "outputs": [],
   "source": [
    "x = np.linspace(0,10,101)\n",
    "f = np.sqrt(x)\n",
    "plt.plot(x,f,'o')\n",
    "plt.show()"
   ]
  },
  {
   "cell_type": "markdown",
   "metadata": {},
   "source": [
    "## Derivada discreta y ecuaciones diferenciales\n",
    "\n",
    "Dada la discretización de una función vamos a definir dos tipos de derivadas.\n",
    "\n",
    "Forward: $ f'(x_i) = \\frac{f(x_{i+1}) - f(x_i)}{\\Delta x}$\n",
    "\n",
    "Backward: $ f'(x_i) = \\frac{f(x_{i}) - f(x_{i-1})}{\\Delta x}$\n",
    "\n",
    "Con esto vamos a resolver la siguiente ecuación diferencial:\n",
    "\n",
    "$$ \\frac{dy}{dt} + sen(t) y = cos(t) $$\n",
    "\n",
    "con condición inicial $y(0) = y_0$.\n",
    "\n",
    "Vamos a resolverlo para $t \\in [0,10]$. Entonces discretizamos el tiempo $t_0=0 < t_1 < t_2 < \\ldots < t_{n-1}=10$. Ahora escribimos la ecuación para cada punto de nuestra discretización:\n",
    "\n",
    "$$ \\frac{y(t_{i+1}) - y(t_i)}{\\Delta t} + sen(t_i)y(t_i) = cos(t_i) $$\n",
    "$$ y(t_{i+1}) - y(t_i)(1 - sen(t_i)\\Delta t) = cos(t_i)\\Delta t $$\n",
    "\n",
    "Por lo que tenemos un sistema de ecuaciones lineales en las variables $y(t_i)$.\n",
    "\n",
    "Si escribimos el sistema de la forma $Ay = b$ nos queda que:\n",
    "\n",
    "$$ A = \\begin{pmatrix} 1 & 0 & 0 & 0 & \\ldots  & 0 \\\\ 1-sen(t_0)\\Delta t & 1 & 0 & 0 &  \\ldots & 0 \\\\ 0 & 1-sen(t_1)\\Delta t & 1 & 0 & \\ldots & 0  \\\\ \\vdots & \\ddots & \\ddots & \\ddots & \\ddots & \\vdots \\end{pmatrix} , \n",
    "b = \\begin{pmatrix} y_0 \\\\ cos(t_0) \\\\ cos(t_1) \\\\ \\vdots \\\\ cos(t_{n-2}) \\end{pmatrix}$$ \n",
    "\n",
    "## Resolución en python\n",
    "\n"
   ]
  },
  {
   "cell_type": "code",
   "execution_count": 23,
   "metadata": {
    "collapsed": false
   },
   "outputs": [],
   "source": [
    "from scipy import linalg\n",
    "\n",
    "t = np.linspace(0,10,101)\n",
    "deltat = t[1]-t[0]\n",
    "A = np.diag(np.ones(101))\n",
    "t2 = t[:100]\n",
    "A = A + np.diag(np.ones(100)- deltat* np.sin(t2),-1)\n",
    "b = np.append([1],deltat*np.cos(t2))\n",
    "y = linalg.solve(A,b)\n",
    "plt.plot(t,y)\n",
    "plt.show()"
   ]
  },
  {
   "cell_type": "markdown",
   "metadata": {},
   "source": [
    "Ejercicios:\n",
    "\n",
    "1.- Resuelva la misma ecuación diferencial para la condición inicial $y(0) = 0$.\n",
    "2.- Resulva la ecuación diferencial para el lado derecho $cos(2t)$.\n",
    "3.- Resulva la ecuación diferencial usando la derivada discreta de tipo backward."
   ]
  }
 ],
 "metadata": {
  "kernelspec": {
   "display_name": "Python 3",
   "language": "python",
   "name": "python3"
  },
  "language_info": {
   "codemirror_mode": {
    "name": "ipython",
    "version": 3
   },
   "file_extension": ".py",
   "mimetype": "text/x-python",
   "name": "python",
   "nbconvert_exporter": "python",
   "pygments_lexer": "ipython3",
   "version": "3.5.1"
  }
 },
 "nbformat": 4,
 "nbformat_minor": 0
}
